{
 "cells": [
  {
   "cell_type": "code",
   "execution_count": 1,
   "id": "23a6967b-34f3-494b-bee6-2531b387b6e0",
   "metadata": {},
   "outputs": [],
   "source": [
    "%load_ext autoreload\n",
    "%autoreload 2"
   ]
  },
  {
   "cell_type": "code",
   "execution_count": 3,
   "id": "f225aee7-de07-4422-a246-3b22669749d4",
   "metadata": {},
   "outputs": [],
   "source": [
    "import pandas as pd\n",
    "from models import *"
   ]
  },
  {
   "cell_type": "code",
   "execution_count": 4,
   "id": "82317385-b876-49de-a03a-f994b9845d59",
   "metadata": {},
   "outputs": [],
   "source": [
    "DATASET_NAME = 'MNIST'\n",
    "(x_train, y_train), (x_test, y_test) = tf.keras.datasets.mnist.load_data()\n",
    "\n",
    "num_classes = 10\n",
    "\n",
    "train_images = np.repeat(np.expand_dims(x_train, -1), 3, -1)/255\n",
    "val_images = np.repeat(np.expand_dims(x_test, -1), 3, -1)/255\n",
    "\n",
    "train_labels = pd.get_dummies(y_train).values.astype(int)\n",
    "val_labels = pd.get_dummies(y_test).values.astype(int)"
   ]
  },
  {
   "cell_type": "code",
   "execution_count": 5,
   "id": "fdc84fb9-21b5-4816-9d99-cc66ab82d48a",
   "metadata": {},
   "outputs": [
    {
     "data": {
      "text/plain": [
       "((60000, 28, 28, 3), (60000, 10))"
      ]
     },
     "execution_count": 5,
     "metadata": {},
     "output_type": "execute_result"
    }
   ],
   "source": [
    "train_images.shape, train_labels.shape"
   ]
  },
  {
   "cell_type": "code",
   "execution_count": 6,
   "id": "cf20d514-52bb-428b-8338-48de13f335c5",
   "metadata": {},
   "outputs": [],
   "source": [
    "imm = train_images[0]\n",
    "input_shape = imm.shape"
   ]
  },
  {
   "cell_type": "code",
   "execution_count": 7,
   "id": "5ad69c0c-b527-4963-85d9-c0ce75a3a944",
   "metadata": {},
   "outputs": [],
   "source": [
    "# Configuration for the VIT\n",
    "\n",
    "resize_to = 224                                                     # To reshape the image before sending it to ViT\n",
    "img_size = imm.shape[1] if resize_to is None else resize_to         # Final shape of the image\n",
    "\n",
    "include_top = True                                                  # If True, last layer has a softmax\n",
    "\n",
    "patch_size = 16                                                     # Size of the patch. 16 recommended\n",
    "num_patches = (img_size // patch_size) ** 2\n",
    "\n",
    "projection_dim = 512                                                # Embedding size\n",
    "transformer_layers = 12                                             # Transformer blocks\n",
    "num_heads = 4                                                       # Multi-headed attention blocks\n",
    "\n",
    "mlp_head_units = 1024                                               "
   ]
  },
  {
   "cell_type": "code",
   "execution_count": 8,
   "id": "fa8517b6-ba60-4f20-b1ce-f40b388501ba",
   "metadata": {},
   "outputs": [],
   "source": [
    "MODEL_NAME = 'VIT'\n",
    "VIT = VisionTransformer(input_shape=input_shape, patch_size=patch_size, num_patches=num_patches, \n",
    "                        projection_dim=projection_dim, transformer_layers=transformer_layers, \n",
    "                        num_heads=num_heads, mlp_head_units=mlp_head_units, include_top=include_top, num_classes=num_classes,\n",
    "                        resize_to=resize_to)"
   ]
  },
  {
   "cell_type": "code",
   "execution_count": 9,
   "id": "1a874ae9-b07e-4bcf-b2ec-63d956905738",
   "metadata": {},
   "outputs": [
    {
     "name": "stdout",
     "output_type": "stream",
     "text": [
      "Model: \"model\"\n",
      "________________________________________________________________________________________________________________________\n",
      " Layer (type)                                         Output Shape                                    Param #           \n",
      "========================================================================================================================\n",
      " input_1 (InputLayer)                                 [(None, 28, 28, 3)]                             0                 \n",
      "                                                                                                                        \n",
      " resizing (Resizing)                                  (None, 224, 224, 3)                             0                 \n",
      "                                                                                                                        \n",
      " patches (Patches)                                    (None, 14, 14, 512)                             393728            \n",
      "                                                                                                                        \n",
      " reshape (Reshape)                                    (None, 196, 512)                                0                 \n",
      "                                                                                                                        \n",
      " class_token (ClassToken)                             (None, 197, 512)                                512               \n",
      "                                                                                                                        \n",
      " Transformer/posembed_input (PatchEncoder)            ((None, 197, 512),                              100864            \n",
      "                                                       (197, 512))                                                      \n",
      "                                                                                                                        \n",
      " Transformer/encoderblock_0 (TransformerBlock)        ((None, 197, 512),                              2102784           \n",
      "                                                       (None, 4, None, None))                                           \n",
      "                                                                                                                        \n",
      " Transformer/encoderblock_1 (TransformerBlock)        ((None, 197, 512),                              2102784           \n",
      "                                                       (None, 4, None, None))                                           \n",
      "                                                                                                                        \n",
      " Transformer/encoderblock_2 (TransformerBlock)        ((None, 197, 512),                              2102784           \n",
      "                                                       (None, 4, None, None))                                           \n",
      "                                                                                                                        \n",
      " Transformer/encoderblock_3 (TransformerBlock)        ((None, 197, 512),                              2102784           \n",
      "                                                       (None, 4, None, None))                                           \n",
      "                                                                                                                        \n",
      " Transformer/encoderblock_4 (TransformerBlock)        ((None, 197, 512),                              2102784           \n",
      "                                                       (None, 4, None, None))                                           \n",
      "                                                                                                                        \n",
      " Transformer/encoderblock_5 (TransformerBlock)        ((None, 197, 512),                              2102784           \n",
      "                                                       (None, 4, None, None))                                           \n",
      "                                                                                                                        \n",
      " Transformer/encoderblock_6 (TransformerBlock)        ((None, 197, 512),                              2102784           \n",
      "                                                       (None, 4, None, None))                                           \n",
      "                                                                                                                        \n",
      " Transformer/encoderblock_7 (TransformerBlock)        ((None, 197, 512),                              2102784           \n",
      "                                                       (None, 4, None, None))                                           \n",
      "                                                                                                                        \n",
      " Transformer/encoderblock_8 (TransformerBlock)        ((None, 197, 512),                              2102784           \n",
      "                                                       (None, 4, None, None))                                           \n",
      "                                                                                                                        \n",
      " Transformer/encoderblock_9 (TransformerBlock)        ((None, 197, 512),                              2102784           \n",
      "                                                       (None, 4, None, None))                                           \n",
      "                                                                                                                        \n",
      " Transformer/encoderblock_10 (TransformerBlock)       ((None, 197, 512),                              2102784           \n",
      "                                                       (None, 4, None, None))                                           \n",
      "                                                                                                                        \n",
      " Transformer/encoderblock_11 (TransformerBlock)       ((None, 197, 512),                              2102784           \n",
      "                                                       (None, 4, None, None))                                           \n",
      "                                                                                                                        \n",
      " Transformer/encoder_norm (LayerNormalization)        (None, 197, 512)                                1024              \n",
      "                                                                                                                        \n",
      " lambda (Lambda)                                      (None, 512)                                     0                 \n",
      "                                                                                                                        \n",
      " head (Dense)                                         (None, 10)                                      5130              \n",
      "                                                                                                                        \n",
      "========================================================================================================================\n",
      "Total params: 25,734,666\n",
      "Trainable params: 25,734,666\n",
      "Non-trainable params: 0\n",
      "________________________________________________________________________________________________________________________\n"
     ]
    }
   ],
   "source": [
    "VIT.summary();"
   ]
  },
  {
   "cell_type": "code",
   "execution_count": 10,
   "id": "08202b7f-000e-423c-bd92-344fb04086ed",
   "metadata": {},
   "outputs": [],
   "source": [
    "logs = 'logs'"
   ]
  },
  {
   "cell_type": "code",
   "execution_count": 11,
   "id": "1fd54d46-a8e1-4f3b-88ae-60b8aa544bb4",
   "metadata": {},
   "outputs": [],
   "source": [
    "from datetime import datetime\n",
    "from callbacks import *\n",
    "from tqdm.keras import TqdmCallback"
   ]
  },
  {
   "cell_type": "code",
   "execution_count": 13,
   "id": "593c5aac-5471-483b-a93c-f3506af7dc78",
   "metadata": {
    "tags": []
   },
   "outputs": [],
   "source": [
    "initial_lr = 0.0002\n",
    "\n",
    "num_epochs = 10\n",
    "patience = 5\n",
    "\n",
    "VIT.compile(num_classes=num_classes, learning_rate=initial_lr, weight_decay=0)\n",
    "\n",
    "log_dir = f'{logs}/{datetime.now().strftime(\"%Y%m%d-%H%M%S\")}/{DATASET_NAME}/{MODEL_NAME}/'\n",
    "history = VIT.fit(train_images, train_labels,\n",
    "    epochs=num_epochs,\n",
    "    validation_data=(val_images, val_labels),\n",
    "    verbose=0,\n",
    "    callbacks=[\n",
    "        # DuplicatedModelCheck(model_log_dir=log_dir),\n",
    "               SimpleLogger(log_dir=log_dir),               \n",
    "               EarlyStopping(restore_best_weights=True, patience=patience),\n",
    "               ModelCheckpoint(log_dir, monitor=f\"val_metrics/accuracy\", save_best_only=True, save_weights_only=True),\n",
    "               PositionEmbeddingLogger(log_dir=log_dir),\n",
    "               TqdmCallback()\n",
    "              ],\n",
    ")"
   ]
  },
  {
   "cell_type": "code",
   "execution_count": null,
   "id": "11622cd9-e08d-42b5-9e4b-03b085260770",
   "metadata": {},
   "outputs": [],
   "source": []
  }
 ],
 "metadata": {
  "kernelspec": {
   "display_name": "Python 3 (ipykernel)",
   "language": "python",
   "name": "python3"
  },
  "language_info": {
   "codemirror_mode": {
    "name": "ipython",
    "version": 3
   },
   "file_extension": ".py",
   "mimetype": "text/x-python",
   "name": "python",
   "nbconvert_exporter": "python",
   "pygments_lexer": "ipython3",
   "version": "3.9.10"
  }
 },
 "nbformat": 4,
 "nbformat_minor": 5
}
